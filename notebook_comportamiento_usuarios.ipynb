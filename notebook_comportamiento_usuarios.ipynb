{
 "cells": [
  {
   "cell_type": "markdown",
   "id": "302dd9d8",
   "metadata": {},
   "source": [
    "# Proyecto 05 – Análisis de Comportamiento de Usuarios\n",
    "\n",
    "Este notebook explora patrones de uso y segmentación de usuarios en plataformas digitales para mejorar retención y personalización."
   ]
  },
  {
   "cell_type": "markdown",
   "id": "06d3b385",
   "metadata": {},
   "source": [
    "## 1. Carga de datos"
   ]
  },
  {
   "cell_type": "code",
   "execution_count": null,
   "id": "03706722",
   "metadata": {},
   "outputs": [],
   "source": [
    "import pandas as pd\n",
    "\n",
    "df = pd.read_csv(\"dataset_usuarios.csv\")\n",
    "df.head()"
   ]
  },
  {
   "cell_type": "markdown",
   "id": "fff3d80a",
   "metadata": {},
   "source": [
    "## 2. Escalado y reducción de dimensiones"
   ]
  },
  {
   "cell_type": "code",
   "execution_count": null,
   "id": "21dca196",
   "metadata": {},
   "outputs": [],
   "source": [
    "from sklearn.preprocessing import StandardScaler\n",
    "import umap.umap_ as umap\n",
    "\n",
    "features = ['duracion_seg', 'paginas_vistas', 'clicks']\n",
    "X = df[features]\n",
    "X_scaled = StandardScaler().fit_transform(X)\n",
    "\n",
    "reducer = umap.UMAP(random_state=42)\n",
    "X_embedded = reducer.fit_transform(X_scaled)\n",
    "df['UMAP1'], df['UMAP2'] = X_embedded[:, 0], X_embedded[:, 1]"
   ]
  },
  {
   "cell_type": "markdown",
   "id": "c76703e7",
   "metadata": {},
   "source": [
    "## 3. Segmentación de Usuarios"
   ]
  },
  {
   "cell_type": "code",
   "execution_count": null,
   "id": "e888d589",
   "metadata": {},
   "outputs": [],
   "source": [
    "from sklearn.cluster import KMeans\n",
    "\n",
    "kmeans = KMeans(n_clusters=4, random_state=42)\n",
    "df['cluster'] = kmeans.fit_predict(X_scaled)\n",
    "df['cluster'].value_counts()"
   ]
  },
  {
   "cell_type": "markdown",
   "id": "2d6f1772",
   "metadata": {},
   "source": [
    "## 4. Visualización de Clusters"
   ]
  },
  {
   "cell_type": "code",
   "execution_count": null,
   "id": "08bae5c8",
   "metadata": {},
   "outputs": [],
   "source": [
    "import plotly.express as px\n",
    "\n",
    "fig = px.scatter(df, x='UMAP1', y='UMAP2', color='cluster',\n",
    "                 hover_data=['usuario_id', 'dispositivo', 'evento_final', 'tipo_usuario'],\n",
    "                 title=\"Segmentación de Usuarios\")\n",
    "fig.show()"
   ]
  },
  {
   "cell_type": "markdown",
   "id": "10edb254",
   "metadata": {},
   "source": [
    "## 5. Conclusiones\n",
    "\n",
    "Los patrones de comportamiento permiten personalizar experiencias, anticipar abandono y focalizar acciones de marketing o retención."
   ]
  }
 ],
 "metadata": {},
 "nbformat": 4,
 "nbformat_minor": 5
}