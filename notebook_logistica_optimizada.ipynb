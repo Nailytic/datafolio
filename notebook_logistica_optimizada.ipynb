{
 "cells": [
  {
   "cell_type": "markdown",
   "id": "8044c234",
   "metadata": {},
   "source": [
    "# Proyecto 03 – Optimización de Cadena de Suministro con IA\n",
    "\n",
    "Este notebook combina predicción de demanda y optimización logística usando modelos de machine learning y programación lineal."
   ]
  },
  {
   "cell_type": "markdown",
   "id": "3c910e29",
   "metadata": {},
   "source": [
    "## 1. Carga de datos"
   ]
  },
  {
   "cell_type": "code",
   "execution_count": null,
   "id": "cdf01ac7",
   "metadata": {},
   "outputs": [],
   "source": [
    "import pandas as pd\n",
    "\n",
    "df = pd.read_csv(\"dataset_logistica.csv\")\n",
    "df.head()"
   ]
  },
  {
   "cell_type": "markdown",
   "id": "ef543d33",
   "metadata": {},
   "source": [
    "## 2. Predicción de Demanda"
   ]
  },
  {
   "cell_type": "code",
   "execution_count": null,
   "id": "e0695c52",
   "metadata": {},
   "outputs": [],
   "source": [
    "from sklearn.ensemble import RandomForestRegressor\n",
    "\n",
    "features = ['price', 'promotion']\n",
    "df = pd.get_dummies(df, columns=['season'], drop_first=True)\n",
    "X = df[features + [col for col in df.columns if col.startswith(\"season_\")]]\n",
    "y = df['demand']\n",
    "\n",
    "model = RandomForestRegressor(n_estimators=100, random_state=42)\n",
    "model.fit(X, y)\n",
    "\n",
    "df['predicted_demand'] = model.predict(X)\n",
    "df[['demand', 'predicted_demand']].head()"
   ]
  },
  {
   "cell_type": "markdown",
   "id": "82f4961d",
   "metadata": {},
   "source": [
    "## 3. Optimización de Inventario"
   ]
  },
  {
   "cell_type": "code",
   "execution_count": null,
   "id": "cc464e89",
   "metadata": {},
   "outputs": [],
   "source": [
    "from pulp import *\n",
    "\n",
    "products = df['product'].unique()\n",
    "order_vars = LpVariable.dicts(\"Order\", products, lowBound=0, cat='Integer')\n",
    "\n",
    "model_opt = LpProblem(\"OptimizarInventario\", LpMinimize)\n",
    "costos = {p: np.random.randint(5, 20) for p in products}\n",
    "\n",
    "model_opt += lpSum([order_vars[p] * costos[p] for p in products])\n",
    "\n",
    "for p in products:\n",
    "    model_opt += order_vars[p] >= int(df[df['product'] == p]['predicted_demand'].mean())\n",
    "\n",
    "model_opt.solve()\n",
    "\n",
    "resultados = {p: order_vars[p].varValue for p in products}\n",
    "resultados"
   ]
  },
  {
   "cell_type": "markdown",
   "id": "1128e663",
   "metadata": {},
   "source": [
    "## 4. Conclusiones\n",
    "\n",
    "Se han utilizado técnicas de ML para predecir la demanda y optimizar las órdenes de productos, minimizando costes y ajustándose a las necesidades reales del negocio."
   ]
  }
 ],
 "metadata": {},
 "nbformat": 4,
 "nbformat_minor": 5
}