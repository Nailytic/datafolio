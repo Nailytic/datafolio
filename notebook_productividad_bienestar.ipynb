{
 "cells": [
  {
   "cell_type": "markdown",
   "id": "f7e8dc78",
   "metadata": {},
   "source": [
    "# Proyecto 04 – Análisis de Productividad y Bienestar Laboral\n",
    "\n",
    "Este notebook analiza datos de rendimiento y bienestar para detectar patrones de riesgo, burnout y proponer mejoras en la gestión de equipos."
   ]
  },
  {
   "cell_type": "markdown",
   "id": "67620b59",
   "metadata": {},
   "source": [
    "## 1. Carga del dataset"
   ]
  },
  {
   "cell_type": "code",
   "execution_count": null,
   "id": "4899c36d",
   "metadata": {},
   "outputs": [],
   "source": [
    "import pandas as pd\n",
    "\n",
    "df = pd.read_csv(\"dataset_productividad_bienestar.csv\")\n",
    "df.head()"
   ]
  },
  {
   "cell_type": "markdown",
   "id": "e373cd01",
   "metadata": {},
   "source": [
    "## 2. Clustering de Perfiles de Trabajo"
   ]
  },
  {
   "cell_type": "code",
   "execution_count": null,
   "id": "828ae0ce",
   "metadata": {},
   "outputs": [],
   "source": [
    "from sklearn.preprocessing import StandardScaler\n",
    "from sklearn.cluster import KMeans\n",
    "\n",
    "features = ['tasks_completed', 'hours_worked', 'code_commits',\n",
    "            'satisfaction_score', 'stress_level', 'work_life_balance']\n",
    "scaler = StandardScaler()\n",
    "X_scaled = scaler.fit_transform(df[features])\n",
    "\n",
    "kmeans = KMeans(n_clusters=4, random_state=42)\n",
    "df['work_profile'] = kmeans.fit_predict(X_scaled)\n",
    "df['work_profile'].value_counts()"
   ]
  },
  {
   "cell_type": "markdown",
   "id": "42ff5913",
   "metadata": {},
   "source": [
    "## 3. Análisis de Correlaciones"
   ]
  },
  {
   "cell_type": "code",
   "execution_count": null,
   "id": "fbd12a32",
   "metadata": {},
   "outputs": [],
   "source": [
    "correlation_matrix = df[features].corr()\n",
    "correlation_matrix"
   ]
  },
  {
   "cell_type": "markdown",
   "id": "3d0af822",
   "metadata": {},
   "source": [
    "## 4. Visualización con Plotly"
   ]
  },
  {
   "cell_type": "code",
   "execution_count": null,
   "id": "0093281b",
   "metadata": {},
   "outputs": [],
   "source": [
    "import plotly.express as px\n",
    "\n",
    "fig = px.scatter(df, x='satisfaction_score', y='stress_level',\n",
    "                 color='work_profile', title=\"Satisfacción vs Estrés por Perfil\")\n",
    "fig.show()"
   ]
  },
  {
   "cell_type": "markdown",
   "id": "2c122032",
   "metadata": {},
   "source": [
    "## 5. Conclusiones\n",
    "\n",
    "Este análisis permite identificar perfiles con alto riesgo de burnout, relacionar productividad y bienestar, y proponer ajustes organizativos basados en datos."
   ]
  }
 ],
 "metadata": {},
 "nbformat": 4,
 "nbformat_minor": 5
}