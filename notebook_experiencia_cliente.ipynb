{
 "cells": [
  {
   "cell_type": "markdown",
   "id": "232eb077",
   "metadata": {},
   "source": [
    "# Proyecto 02 – Análisis de Experiencia de Cliente con NLP\n",
    "\n",
    "Este notebook aplica procesamiento de lenguaje natural a comentarios de clientes para extraer temas, sentimientos y relaciones semánticas."
   ]
  },
  {
   "cell_type": "markdown",
   "id": "5692eb35",
   "metadata": {},
   "source": [
    "## 1. Carga del dataset de comentarios"
   ]
  },
  {
   "cell_type": "code",
   "execution_count": null,
   "id": "67eaf725",
   "metadata": {},
   "outputs": [],
   "source": [
    "import pandas as pd\n",
    "\n",
    "df = pd.read_csv(\"dataset_feedback_clientes.csv\")\n",
    "df.head()"
   ]
  },
  {
   "cell_type": "markdown",
   "id": "fab2c0ef",
   "metadata": {},
   "source": [
    "## 2. Análisis de Sentimiento"
   ]
  },
  {
   "cell_type": "code",
   "execution_count": null,
   "id": "9d7ae8b7",
   "metadata": {},
   "outputs": [],
   "source": [
    "from transformers import pipeline\n",
    "\n",
    "sentiment_analyzer = pipeline(\"sentiment-analysis\", model=\"nlptown/bert-base-multilingual-uncased-sentiment\")\n",
    "df['sentimiento'] = df['comentario'].apply(lambda x: sentiment_analyzer(x)[0]['label'])\n",
    "df['sentimiento'].value_counts()"
   ]
  },
  {
   "cell_type": "markdown",
   "id": "3cd2f61d",
   "metadata": {},
   "source": [
    "## 3. Extracción de Temas con LDA"
   ]
  },
  {
   "cell_type": "code",
   "execution_count": null,
   "id": "a4c50b70",
   "metadata": {},
   "outputs": [],
   "source": [
    "from sklearn.feature_extraction.text import CountVectorizer\n",
    "from sklearn.decomposition import LatentDirichletAllocation\n",
    "\n",
    "vectorizer = CountVectorizer(stop_words='spanish', min_df=5)\n",
    "X = vectorizer.fit_transform(df['comentario'])\n",
    "\n",
    "lda = LatentDirichletAllocation(n_components=3, random_state=42)\n",
    "lda.fit(X)\n",
    "\n",
    "feature_names = vectorizer.get_feature_names_out()\n",
    "for topic_idx, topic in enumerate(lda.components_):\n",
    "    top_words = [feature_names[i] for i in topic.argsort()[:-6:-1]]\n",
    "    print(f\"Tema {topic_idx + 1}: {', '.join(top_words)}\")"
   ]
  },
  {
   "cell_type": "markdown",
   "id": "1fa8fe08",
   "metadata": {},
   "source": [
    "## 4. Conclusiones\n",
    "\n",
    "El análisis de sentimiento permite identificar tendencias en la percepción del cliente. La extracción de temas ayuda a detectar áreas comunes de mejora o valor percibido."
   ]
  }
 ],
 "metadata": {},
 "nbformat": 4,
 "nbformat_minor": 5
}