{
 "cells": [
  {
   "cell_type": "markdown",
   "id": "76846978",
   "metadata": {},
   "source": [
    "# Proyecto 01 – Simulador Predictivo de Impacto Financiero\n",
    "\n",
    "Este notebook implementa un modelo de predicción financiera utilizando Prophet y variables externas como inflación y marketing index."
   ]
  },
  {
   "cell_type": "markdown",
   "id": "01fecc08",
   "metadata": {},
   "source": [
    "## 1. Carga de datos y preparación"
   ]
  },
  {
   "cell_type": "code",
   "execution_count": null,
   "id": "19025c2f",
   "metadata": {},
   "outputs": [],
   "source": [
    "import pandas as pd\n",
    "\n",
    "df = pd.read_csv(\"dataset_financiero.csv\")\n",
    "df['ds'] = pd.to_datetime(df['ds'])\n",
    "df.head()"
   ]
  },
  {
   "cell_type": "markdown",
   "id": "d13eba8b",
   "metadata": {},
   "source": [
    "## 2. Entrenamiento del modelo Prophet con regresores externos"
   ]
  },
  {
   "cell_type": "code",
   "execution_count": null,
   "id": "1215ad45",
   "metadata": {},
   "outputs": [],
   "source": [
    "from prophet import Prophet\n",
    "\n",
    "model = Prophet()\n",
    "model.add_regressor('inflacion')\n",
    "model.add_regressor('marketing_index')\n",
    "\n",
    "model.fit(df)\n",
    "future = model.make_future_dataframe(periods=6, freq='MS')\n",
    "future['inflacion'] = df['inflacion'].iloc[-1]\n",
    "future['marketing_index'] = df['marketing_index'].iloc[-1]\n",
    "\n",
    "forecast = model.predict(future)\n",
    "forecast[['ds', 'yhat', 'yhat_lower', 'yhat_upper']].tail()"
   ]
  },
  {
   "cell_type": "markdown",
   "id": "2e35d062",
   "metadata": {},
   "source": [
    "## 3. Visualización de proyecciones"
   ]
  },
  {
   "cell_type": "code",
   "execution_count": null,
   "id": "5dbb875b",
   "metadata": {},
   "outputs": [],
   "source": [
    "from prophet.plot import plot_plotly\n",
    "\n",
    "plot_plotly(model, forecast)"
   ]
  },
  {
   "cell_type": "markdown",
   "id": "6154a8b6",
   "metadata": {},
   "source": [
    "## 4. Conclusiones y Escenarios\n",
    "\n",
    "El simulador permite visualizar el impacto proyectado de decisiones estratégicas bajo distintos escenarios de marketing o inflación. Puede ser extendido para simular eventos exógenos y evaluar el retorno de diferentes estrategias."
   ]
  }
 ],
 "metadata": {},
 "nbformat": 4,
 "nbformat_minor": 5
}