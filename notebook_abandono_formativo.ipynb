{
 "cells": [
  {
   "cell_type": "markdown",
   "id": "cfff467a",
   "metadata": {},
   "source": [
    "# Proyecto 06 – Sistema Predictivo de Abandono en Formación Multisectorial\n",
    "\n",
    "Este notebook aplica análisis exploratorio y modelos de predicción de abandono sobre datos educativos en distintos sectores: universitario, corporativo y subvencionado."
   ]
  },
  {
   "cell_type": "markdown",
   "id": "9ca2d268",
   "metadata": {},
   "source": [
    "## 1. Carga y Exploración de Datos"
   ]
  },
  {
   "cell_type": "code",
   "execution_count": 3,
   "id": "a8b2641d",
   "metadata": {},
   "outputs": [
    {
     "ename": "ModuleNotFoundError",
     "evalue": "No module named 'pandas'",
     "output_type": "error",
     "traceback": [
      "\u001b[31m---------------------------------------------------------------------------\u001b[39m",
      "\u001b[31mModuleNotFoundError\u001b[39m                       Traceback (most recent call last)",
      "\u001b[36mCell\u001b[39m\u001b[36m \u001b[39m\u001b[32mIn[3]\u001b[39m\u001b[32m, line 1\u001b[39m\n\u001b[32m----> \u001b[39m\u001b[32m1\u001b[39m \u001b[38;5;28;01mimport\u001b[39;00m\u001b[38;5;250m \u001b[39m\u001b[34;01mpandas\u001b[39;00m\u001b[38;5;250m \u001b[39m\u001b[38;5;28;01mas\u001b[39;00m\u001b[38;5;250m \u001b[39m\u001b[34;01mpd\u001b[39;00m\n\u001b[32m      3\u001b[39m df = pd.read_csv(\u001b[33m\"\u001b[39m\u001b[33mdataset_formacion_multisectorial.csv\u001b[39m\u001b[33m\"\u001b[39m)\n\u001b[32m      4\u001b[39m df.head()\n",
      "\u001b[31mModuleNotFoundError\u001b[39m: No module named 'pandas'"
     ]
    }
   ],
   "source": [
    "import pandas as pd\n",
    "\n",
    "df = pd.read_csv(\"dataset_formacion_multisectorial.csv\")\n",
    "df.head()"
   ]
  },
  {
   "cell_type": "markdown",
   "id": "005359c4",
   "metadata": {},
   "source": [
    "## 2. Análisis Descriptivo General"
   ]
  },
  {
   "cell_type": "code",
   "execution_count": null,
   "id": "318a67b8",
   "metadata": {},
   "outputs": [],
   "source": [
    "df['sector'].value_counts()"
   ]
  },
  {
   "cell_type": "markdown",
   "id": "b42317bd",
   "metadata": {},
   "source": [
    "## 3. Preparación de Datos para el Modelo"
   ]
  },
  {
   "cell_type": "code",
   "execution_count": null,
   "id": "ec562778",
   "metadata": {},
   "outputs": [],
   "source": [
    "from sklearn.model_selection import train_test_split\n",
    "from sklearn.preprocessing import StandardScaler\n",
    "\n",
    "features = ['edad', 'progreso_percent', 'dias_inactivo', 'interacciones', 'evaluaciones_completadas', 'tiempo_total_horas', 'n_sesiones']\n",
    "X = df[features]\n",
    "y = df['abandono']\n",
    "\n",
    "scaler = StandardScaler()\n",
    "X_scaled = scaler.fit_transform(X)\n",
    "\n",
    "X_train, X_test, y_train, y_test = train_test_split(X_scaled, y, test_size=0.2, random_state=42)"
   ]
  },
  {
   "cell_type": "markdown",
   "id": "8a3a9341",
   "metadata": {},
   "source": [
    "## 4. Entrenamiento del Modelo de Predicción"
   ]
  },
  {
   "cell_type": "code",
   "execution_count": null,
   "id": "719e2aa9",
   "metadata": {},
   "outputs": [],
   "source": [
    "from sklearn.ensemble import RandomForestClassifier\n",
    "from sklearn.metrics import classification_report, confusion_matrix\n",
    "\n",
    "model = RandomForestClassifier(n_estimators=100, random_state=42)\n",
    "model.fit(X_train, y_train)\n",
    "\n",
    "y_pred = model.predict(X_test)\n",
    "print(classification_report(y_test, y_pred))\n",
    "print(confusion_matrix(y_test, y_pred))"
   ]
  },
  {
   "cell_type": "markdown",
   "id": "1d68f324",
   "metadata": {},
   "source": [
    "## 5. Conclusiones y Próximos Pasos\n",
    "\n",
    "Este modelo permite anticipar el abandono de alumnos en distintas plataformas de formación. Se puede mejorar con datos temporales y alertas en tiempo real para intervenciones proactivas."
   ]
  }
 ],
 "metadata": {
  "kernelspec": {
   "display_name": "Python 3",
   "language": "python",
   "name": "python3"
  },
  "language_info": {
   "codemirror_mode": {
    "name": "ipython",
    "version": 3
   },
   "file_extension": ".py",
   "mimetype": "text/x-python",
   "name": "python",
   "nbconvert_exporter": "python",
   "pygments_lexer": "ipython3",
   "version": "3.13.3"
  }
 },
 "nbformat": 4,
 "nbformat_minor": 5
}
